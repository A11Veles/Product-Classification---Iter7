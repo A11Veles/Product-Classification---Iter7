{
 "cells": [
  {
   "cell_type": "markdown",
   "id": "e262c5fc",
   "metadata": {},
   "source": [
    "# Import packages"
   ]
  },
  {
   "cell_type": "code",
   "execution_count": 1,
   "id": "5cff14ac",
   "metadata": {},
   "outputs": [],
   "source": [
    "import pandas as pd\n",
    "from teradataml import *\n",
    "import ast\n",
    "import json\n",
    "import torch\n",
    "from teradataml.dataframe.copy_to import copy_to_sql\n",
    "from transformers.generation import GenerationMixin\n",
    "\n",
    "from modules.db import TeradataDatabase\n",
    "from modules.models import( \n",
    "    OpusTranslationModelConfig, \n",
    "                        OpusTranslationModel, \n",
    "                        SentenceEmbeddingConfig, \n",
    "                        SentenceEmbeddingModel, \n",
    ")\n",
    "from utils import clean_text, load_embedding_model, unicode_clean, load_translation_model\n",
    "from constants import (\n",
    "    CLEANED_TEST_DATA_PATH, TRAIN_VAL_DATA_PATH, CLASS_EMBEDDINGS_PATH, PRODUCT_TEST_EMBEDDINGS_PATH, \n",
    "    CLEANED_GPC_PATH, CLEANED_TEST_DATA_PATH, TEST_DATA_PATH, E5_LARGE_INSTRUCT_CONFIG_PATH, \n",
    "    OPUS_TRANSLATION_CONFIG_PATH, DATA_PATH, PRODUCT_TRAIN_EMBEDDINGS_PATH, VALIDATION_DATA_PATH,\n",
    "    FULL_DATA_SET_DATA_PATH, PRODUCT_FULL_DATASET_EMBEDDINGS_PATH,  CLEANED_FULL_DATASET_DATA_PATH,\n",
    "    CLASS_EMBEDDINGS_PATH_QWEN, PRODUCT_FULL_DATASET_EMBEDDINGS__QWEN_PATH,\n",
    "    MWPD_DATA_SET_TRAIN, MWPD_DATA_SET_VAL, MWPD_DATA_SET_TEST, MWPD_FULL_DATASET\n",
    ")\n"
   ]
  },
  {
   "cell_type": "markdown",
   "id": "b2b3aa3e",
   "metadata": {},
   "source": [
    "## Connect to database"
   ]
  },
  {
   "cell_type": "code",
   "execution_count": 3,
   "id": "b5a80968",
   "metadata": {},
   "outputs": [],
   "source": [
    "td_db = TeradataDatabase()\n",
    "td_db.connect()"
   ]
  },
  {
   "cell_type": "code",
   "execution_count": null,
   "id": "2ff48a65",
   "metadata": {},
   "outputs": [],
   "source": [
    "tdf = td_db.execute_query(\"Select * from demo_user.gpc_orig\")\n",
    "df = pd.DataFrame(tdf)\n"
   ]
  },
  {
   "cell_type": "code",
   "execution_count": null,
   "id": "f75c1c06",
   "metadata": {},
   "outputs": [],
   "source": [
    "df.head()"
   ]
  },
  {
   "cell_type": "markdown",
   "id": "385f2bb5",
   "metadata": {},
   "source": [
    "### Remvoing un-neccesary columns"
   ]
  },
  {
   "cell_type": "code",
   "execution_count": null,
   "id": "ee177f29",
   "metadata": {},
   "outputs": [],
   "source": [
    "query = \"\"\"\n",
    "ALTER TABLE demo_user.gpc_orig \n",
    "DROP SegmentCode,\n",
    "DROP FamilyCode,\n",
    "DROP ClassCode,\n",
    "Drop BrickCode,\n",
    "DROP AttributeCode,\n",
    "DROP AttributeTitle,\n",
    "DROP AttributeDefinition,\n",
    "DROP AttributeValueCode,\n",
    "DROP AttributeValueTitle,\n",
    "DROP AttributeValueDefinition;\n",
    "\"\"\""
   ]
  },
  {
   "cell_type": "code",
   "execution_count": 11,
   "id": "122ae97d",
   "metadata": {},
   "outputs": [],
   "source": [
    "tdf = td_db.execute_query(query)"
   ]
  },
  {
   "cell_type": "markdown",
   "id": "e18e9684",
   "metadata": {},
   "source": [
    "### Cleaning the GPC Columns"
   ]
  },
  {
   "cell_type": "code",
   "execution_count": null,
   "id": "4d60ef11",
   "metadata": {},
   "outputs": [],
   "source": [
    "cleaning_query = \"\"\"\n",
    "UPDATE demo_user.gpc_orig\n",
    "SET SegmentTitle = LOWER(TRIM(\n",
    "                          REGEXP_REPLACE(\n",
    "                            REGEXP_REPLACE(\n",
    "                              REGEXP_REPLACE(SegmentTitle, '[[:digit:]]+', ''), \n",
    "                              '[-_/\\\\|]', ' '),                              \n",
    "                            '[[:punct:]]', ' '))),\n",
    "    SegmentDefinition = LOWER(TRIM(\n",
    "                          REGEXP_REPLACE(\n",
    "                            REGEXP_REPLACE(\n",
    "                              REGEXP_REPLACE(SegmentDefinition, '[[:digit:]]+', ''), \n",
    "                              '[-_/\\\\|]', ' '),                              \n",
    "                            '[[:punct:]]', ' '))),\n",
    "    FamilyTitle = LOWER(TRIM(\n",
    "                          REGEXP_REPLACE(\n",
    "                            REGEXP_REPLACE(\n",
    "                              REGEXP_REPLACE(FamilyTitle, '[[:digit:]]+', ''), \n",
    "                              '[-_/\\\\|]', ' '),                              \n",
    "                            '[[:punct:]]', ' '))),\n",
    "    FamilyDefinition = LOWER(TRIM(\n",
    "                          REGEXP_REPLACE(\n",
    "                            REGEXP_REPLACE(\n",
    "                              REGEXP_REPLACE(FamilyDefinition, '[[:digit:]]+', ''), \n",
    "                              '[-_/\\\\|]', ' '),                              \n",
    "                            '[[:punct:]]', ' '))),\n",
    "    ClassTitle = LOWER(TRIM(\n",
    "                          REGEXP_REPLACE(\n",
    "                            REGEXP_REPLACE(\n",
    "                              REGEXP_REPLACE(ClassTitle, '[[:digit:]]+', ''), \n",
    "                              '[-_/\\\\|]', ' '),                              \n",
    "                            '[[:punct:]]', ' '))),\n",
    "    ClassDefinition = LOWER(TRIM(\n",
    "                          REGEXP_REPLACE(\n",
    "                            REGEXP_REPLACE(\n",
    "                              REGEXP_REPLACE(ClassDefinition, '[[:digit:]]+', ''), \n",
    "                              '[-_/\\\\|]', ' '),                              \n",
    "                            '[[:punct:]]', ' '))),\n",
    "    BrickTitle = LOWER(TRIM(\n",
    "                          REGEXP_REPLACE(\n",
    "                            REGEXP_REPLACE(\n",
    "                              REGEXP_REPLACE(BrickTitle, '[[:digit:]]+', ''), \n",
    "                              '[-_/\\\\|]', ' '),                              \n",
    "                            '[[:punct:]]', ' '))),\n",
    "    BrickDefinition_Includes = LOWER(TRIM(\n",
    "                          REGEXP_REPLACE(\n",
    "                            REGEXP_REPLACE(\n",
    "                              REGEXP_REPLACE(BrickDefinition_Includes, '[[:digit:]]+', ''), \n",
    "                              '[-_/\\\\|]', ' '),                              \n",
    "                            '[[:punct:]]', ' '))),\n",
    "    BrickDefinition_Excludes = LOWER(TRIM(\n",
    "                          REGEXP_REPLACE(\n",
    "                            REGEXP_REPLACE(\n",
    "                              REGEXP_REPLACE(BrickDefinition_Excludes, '[[:digit:]]+', ''), \n",
    "                              '[-_/\\\\|]', ' '),                              \n",
    "                            '[[:punct:]]', ' ')));\n",
    "\n",
    "\"\"\""
   ]
  },
  {
   "cell_type": "code",
   "execution_count": 13,
   "id": "d3e195b7",
   "metadata": {},
   "outputs": [],
   "source": [
    "tdf = td_db.execute_query(cleaning_query)"
   ]
  },
  {
   "cell_type": "markdown",
   "id": "ab70901a",
   "metadata": {},
   "source": [
    "## Disconnect"
   ]
  },
  {
   "cell_type": "code",
   "execution_count": null,
   "id": "8e7863ef",
   "metadata": {},
   "outputs": [],
   "source": [
    "td_db.disconnect()"
   ]
  }
 ],
 "metadata": {
  "kernelspec": {
   "display_name": "Python 3",
   "language": "python",
   "name": "python3"
  },
  "language_info": {
   "codemirror_mode": {
    "name": "ipython",
    "version": 3
   },
   "file_extension": ".py",
   "mimetype": "text/x-python",
   "name": "python",
   "nbconvert_exporter": "python",
   "pygments_lexer": "ipython3",
   "version": "3.13.5"
  }
 },
 "nbformat": 4,
 "nbformat_minor": 5
}
